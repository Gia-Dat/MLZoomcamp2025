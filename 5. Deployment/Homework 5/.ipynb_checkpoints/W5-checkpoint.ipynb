{
 "cells": [
  {
   "cell_type": "code",
   "execution_count": 3,
   "id": "668cd0b2-fc77-42d7-a07c-d822cdd01fea",
   "metadata": {},
   "outputs": [],
   "source": [
    "import pandas as pd\n",
    "import numpy as np\n",
    "import matplotlib.pyplot as plt"
   ]
  },
  {
   "cell_type": "code",
   "execution_count": 5,
   "id": "5f7270fc-e8f3-423d-8ef2-07f1ee2336ca",
   "metadata": {},
   "outputs": [],
   "source": [
    "from sklearn.model_selection import train_test_split\n",
    "from sklearn.feature_extraction import DictVectorizer\n",
    "from sklearn.linear_model import LogisticRegression"
   ]
  },
  {
   "cell_type": "code",
   "execution_count": 7,
   "id": "2b3c3840-15d7-4ef7-aa09-ac7da4866c83",
   "metadata": {},
   "outputs": [
    {
     "data": {
      "text/html": [
       "<div>\n",
       "<style scoped>\n",
       "    .dataframe tbody tr th:only-of-type {\n",
       "        vertical-align: middle;\n",
       "    }\n",
       "\n",
       "    .dataframe tbody tr th {\n",
       "        vertical-align: top;\n",
       "    }\n",
       "\n",
       "    .dataframe thead th {\n",
       "        text-align: right;\n",
       "    }\n",
       "</style>\n",
       "<table border=\"1\" class=\"dataframe\">\n",
       "  <thead>\n",
       "    <tr style=\"text-align: right;\">\n",
       "      <th></th>\n",
       "      <th>lead_source</th>\n",
       "      <th>industry</th>\n",
       "      <th>number_of_courses_viewed</th>\n",
       "      <th>annual_income</th>\n",
       "      <th>employment_status</th>\n",
       "      <th>location</th>\n",
       "      <th>interaction_count</th>\n",
       "      <th>lead_score</th>\n",
       "      <th>converted</th>\n",
       "    </tr>\n",
       "  </thead>\n",
       "  <tbody>\n",
       "    <tr>\n",
       "      <th>0</th>\n",
       "      <td>paid_ads</td>\n",
       "      <td>NaN</td>\n",
       "      <td>1</td>\n",
       "      <td>79450.0</td>\n",
       "      <td>unemployed</td>\n",
       "      <td>south_america</td>\n",
       "      <td>4</td>\n",
       "      <td>0.94</td>\n",
       "      <td>1</td>\n",
       "    </tr>\n",
       "    <tr>\n",
       "      <th>1</th>\n",
       "      <td>social_media</td>\n",
       "      <td>retail</td>\n",
       "      <td>1</td>\n",
       "      <td>46992.0</td>\n",
       "      <td>employed</td>\n",
       "      <td>south_america</td>\n",
       "      <td>1</td>\n",
       "      <td>0.80</td>\n",
       "      <td>0</td>\n",
       "    </tr>\n",
       "    <tr>\n",
       "      <th>2</th>\n",
       "      <td>events</td>\n",
       "      <td>healthcare</td>\n",
       "      <td>5</td>\n",
       "      <td>78796.0</td>\n",
       "      <td>unemployed</td>\n",
       "      <td>australia</td>\n",
       "      <td>3</td>\n",
       "      <td>0.69</td>\n",
       "      <td>1</td>\n",
       "    </tr>\n",
       "    <tr>\n",
       "      <th>3</th>\n",
       "      <td>paid_ads</td>\n",
       "      <td>retail</td>\n",
       "      <td>2</td>\n",
       "      <td>83843.0</td>\n",
       "      <td>NaN</td>\n",
       "      <td>australia</td>\n",
       "      <td>1</td>\n",
       "      <td>0.87</td>\n",
       "      <td>0</td>\n",
       "    </tr>\n",
       "    <tr>\n",
       "      <th>4</th>\n",
       "      <td>referral</td>\n",
       "      <td>education</td>\n",
       "      <td>3</td>\n",
       "      <td>85012.0</td>\n",
       "      <td>self_employed</td>\n",
       "      <td>europe</td>\n",
       "      <td>3</td>\n",
       "      <td>0.62</td>\n",
       "      <td>1</td>\n",
       "    </tr>\n",
       "  </tbody>\n",
       "</table>\n",
       "</div>"
      ],
      "text/plain": [
       "    lead_source    industry  number_of_courses_viewed  annual_income  \\\n",
       "0      paid_ads         NaN                         1        79450.0   \n",
       "1  social_media      retail                         1        46992.0   \n",
       "2        events  healthcare                         5        78796.0   \n",
       "3      paid_ads      retail                         2        83843.0   \n",
       "4      referral   education                         3        85012.0   \n",
       "\n",
       "  employment_status       location  interaction_count  lead_score  converted  \n",
       "0        unemployed  south_america                  4        0.94          1  \n",
       "1          employed  south_america                  1        0.80          0  \n",
       "2        unemployed      australia                  3        0.69          1  \n",
       "3               NaN      australia                  1        0.87          0  \n",
       "4     self_employed         europe                  3        0.62          1  "
      ]
     },
     "execution_count": 7,
     "metadata": {},
     "output_type": "execute_result"
    }
   ],
   "source": [
    "df = pd.read_csv(r'C:\\Users\\GIA DAT\\ML Zoomcamp\\4. Evaluation\\course_lead_scoring.csv')\n",
    "df.head()"
   ]
  },
  {
   "cell_type": "markdown",
   "id": "9b3005c1-2061-406c-a5c6-87e87426acca",
   "metadata": {},
   "source": [
    "## Data Preparation"
   ]
  },
  {
   "cell_type": "code",
   "execution_count": 28,
   "id": "f254549a-b298-4e69-a45e-7785d4174cb8",
   "metadata": {},
   "outputs": [
    {
     "data": {
      "text/plain": [
       "lead_source                 0\n",
       "industry                    0\n",
       "number_of_courses_viewed    0\n",
       "annual_income               0\n",
       "employment_status           0\n",
       "location                    0\n",
       "interaction_count           0\n",
       "lead_score                  0\n",
       "converted                   0\n",
       "dtype: int64"
      ]
     },
     "execution_count": 28,
     "metadata": {},
     "output_type": "execute_result"
    }
   ],
   "source": [
    "df.isnull().sum()"
   ]
  },
  {
   "cell_type": "code",
   "execution_count": 16,
   "id": "f17f206d-881c-43e3-9bd1-66c3604f6b13",
   "metadata": {},
   "outputs": [
    {
     "data": {
      "text/plain": [
       "lead_source                  object\n",
       "industry                     object\n",
       "number_of_courses_viewed      int64\n",
       "annual_income               float64\n",
       "employment_status            object\n",
       "location                     object\n",
       "interaction_count             int64\n",
       "lead_score                  float64\n",
       "converted                     int64\n",
       "dtype: object"
      ]
     },
     "execution_count": 16,
     "metadata": {},
     "output_type": "execute_result"
    }
   ],
   "source": [
    "df.dtypes"
   ]
  },
  {
   "cell_type": "code",
   "execution_count": 18,
   "id": "4c8f004e-0e33-4337-b1ec-55f70973d881",
   "metadata": {},
   "outputs": [],
   "source": [
    "caterogical_features = [\"lead_source\", \"industry\", \"employment_status\", \"location\"]\n",
    "numerical_features = [\"number_of_courses_viewed\", \"annual_income\", \"interaction_count\", \"lead_score\"]"
   ]
  },
  {
   "cell_type": "code",
   "execution_count": 26,
   "id": "c386b2dc-dc1e-425b-8b30-ebba3d39a950",
   "metadata": {},
   "outputs": [],
   "source": [
    "for ele in caterogical_features:\n",
    "    df[ele] = df[ele].fillna('NA')\n",
    "\n",
    "for ele in numerical_features:\n",
    "    df[ele] = df[ele].fillna(0)"
   ]
  },
  {
   "cell_type": "code",
   "execution_count": 30,
   "id": "a5c233b0-fc82-4373-a0f5-474fd98c398b",
   "metadata": {},
   "outputs": [],
   "source": [
    "df_full_train, df_test = train_test_split(df, test_size=0.2, random_state=1)\n",
    "df_train, df_val = train_test_split(df_full_train, test_size=0.25, random_state=1)\n",
    "\n",
    "df_train = df_train.reset_index(drop=True)\n",
    "df_val = df_val.reset_index(drop=True)\n",
    "df_test = df_test.reset_index(drop=True)\n",
    "\n",
    "y_train = df_train.converted.to_numpy()\n",
    "y_val = df_val.converted.to_numpy()\n",
    "y_test = df_test.converted.to_numpy()\n",
    "\n",
    "del df_train['converted']\n",
    "del df_val['converted']\n",
    "del df_test['converted']"
   ]
  },
  {
   "cell_type": "markdown",
   "id": "c3686b89-5185-484b-9529-0cbd482863e6",
   "metadata": {},
   "source": [
    "## Question 1"
   ]
  },
  {
   "cell_type": "code",
   "execution_count": 35,
   "id": "45cf3524-89e9-4f8c-8ca5-a23dc884310d",
   "metadata": {},
   "outputs": [],
   "source": [
    "from sklearn.metrics import roc_auc_score"
   ]
  },
  {
   "cell_type": "code",
   "execution_count": 63,
   "id": "2f74ecf5-81dd-42bc-bbc3-d351529494b5",
   "metadata": {},
   "outputs": [],
   "source": [
    "features = caterogical_features + numerical_features\n",
    "\n",
    "X_train = df_train[features].reset_index(drop=True)\n",
    "X_val = df_val[features].reset_index(drop=True)\n",
    "X_test = df_test[features].reset_index(drop=True)"
   ]
  },
  {
   "cell_type": "code",
   "execution_count": 92,
   "id": "fd6e4295-e8f5-44d4-90ad-c458feaa11f9",
   "metadata": {},
   "outputs": [
    {
     "name": "stdout",
     "output_type": "stream",
     "text": [
      "lead_score | 0.614\n",
      "number_of_courses_viewed | 0.764\n",
      "interaction_count | 0.738\n",
      "annual_income | 0.552\n"
     ]
    }
   ],
   "source": [
    "list1 = ['lead_score', 'number_of_courses_viewed', 'interaction_count', 'annual_income']\n",
    "\n",
    "for ele in list1:\n",
    "    dv = DictVectorizer(sparse=False)\n",
    "\n",
    "    train_dict = df_train[[ele]].to_dict(orient='records')\n",
    "    X_train = dv.fit_transform(train_dict)\n",
    "    \n",
    "    model = LogisticRegression()\n",
    "    model.fit(X_train, y_train)\n",
    "\n",
    "    y_pred = model.predict_proba(X_train)[:, 1]\n",
    "    auc = roc_auc_score(y_train, y_pred)\n",
    "\n",
    "    if auc < 0.5:\n",
    "        auc = roc_auc_score(y_train, -y_pred)\n",
    "    \n",
    "    print(\"%s | %.3f\" % (ele, auc))"
   ]
  },
  {
   "cell_type": "markdown",
   "id": "04d93025-4249-4a9c-8828-5fb907494f8d",
   "metadata": {},
   "source": [
    "number_of_courses_viewed has the highest AUC"
   ]
  },
  {
   "cell_type": "markdown",
   "id": "b682cabf-2311-479c-b1ba-382165b05f0a",
   "metadata": {},
   "source": [
    "## Question 2"
   ]
  },
  {
   "cell_type": "code",
   "execution_count": 99,
   "id": "0356c5b3-6c80-4227-a9e5-34ac8ae977ed",
   "metadata": {},
   "outputs": [
    {
     "data": {
      "text/plain": [
       "0.817"
      ]
     },
     "execution_count": 99,
     "metadata": {},
     "output_type": "execute_result"
    }
   ],
   "source": [
    "dv = DictVectorizer(sparse=False)\n",
    "\n",
    "train_dict = df_train[features].to_dict(orient='records')\n",
    "X_train = dv.fit_transform(train_dict)\n",
    "    \n",
    "model = LogisticRegression(solver='liblinear', C=1.0, max_iter=1000)\n",
    "model.fit(X_train, y_train)\n",
    "\n",
    "val_dict = df_val[features].to_dict(orient='records')\n",
    "X_val = dv.transform(val_dict)\n",
    "\n",
    "y_pred = model.predict_proba(X_val)[:, 1]\n",
    "round(roc_auc_score(y_val, y_pred), 3)"
   ]
  },
  {
   "cell_type": "markdown",
   "id": "20fc680e-ece2-4e45-b246-0c807f5cf7dd",
   "metadata": {},
   "source": [
    "## Question 3"
   ]
  },
  {
   "cell_type": "code",
   "execution_count": 132,
   "id": "1a96601a-8c79-4db7-8ff0-d027e5782411",
   "metadata": {},
   "outputs": [
    {
     "data": {
      "text/html": [
       "<div>\n",
       "<style scoped>\n",
       "    .dataframe tbody tr th:only-of-type {\n",
       "        vertical-align: middle;\n",
       "    }\n",
       "\n",
       "    .dataframe tbody tr th {\n",
       "        vertical-align: top;\n",
       "    }\n",
       "\n",
       "    .dataframe thead th {\n",
       "        text-align: right;\n",
       "    }\n",
       "</style>\n",
       "<table border=\"1\" class=\"dataframe\">\n",
       "  <thead>\n",
       "    <tr style=\"text-align: right;\">\n",
       "      <th></th>\n",
       "      <th>threshold</th>\n",
       "      <th>tp</th>\n",
       "      <th>fp</th>\n",
       "      <th>fn</th>\n",
       "      <th>tn</th>\n",
       "      <th>precision</th>\n",
       "      <th>recall</th>\n",
       "      <th>diff</th>\n",
       "    </tr>\n",
       "  </thead>\n",
       "  <tbody>\n",
       "    <tr>\n",
       "      <th>64</th>\n",
       "      <td>0.64</td>\n",
       "      <td>134</td>\n",
       "      <td>38</td>\n",
       "      <td>37</td>\n",
       "      <td>84</td>\n",
       "      <td>0.779070</td>\n",
       "      <td>0.783626</td>\n",
       "      <td>0.004556</td>\n",
       "    </tr>\n",
       "    <tr>\n",
       "      <th>65</th>\n",
       "      <td>0.65</td>\n",
       "      <td>130</td>\n",
       "      <td>37</td>\n",
       "      <td>41</td>\n",
       "      <td>85</td>\n",
       "      <td>0.778443</td>\n",
       "      <td>0.760234</td>\n",
       "      <td>0.018209</td>\n",
       "    </tr>\n",
       "    <tr>\n",
       "      <th>63</th>\n",
       "      <td>0.63</td>\n",
       "      <td>139</td>\n",
       "      <td>43</td>\n",
       "      <td>32</td>\n",
       "      <td>79</td>\n",
       "      <td>0.763736</td>\n",
       "      <td>0.812865</td>\n",
       "      <td>0.049129</td>\n",
       "    </tr>\n",
       "    <tr>\n",
       "      <th>66</th>\n",
       "      <td>0.66</td>\n",
       "      <td>124</td>\n",
       "      <td>35</td>\n",
       "      <td>47</td>\n",
       "      <td>87</td>\n",
       "      <td>0.779874</td>\n",
       "      <td>0.725146</td>\n",
       "      <td>0.054728</td>\n",
       "    </tr>\n",
       "    <tr>\n",
       "      <th>62</th>\n",
       "      <td>0.62</td>\n",
       "      <td>143</td>\n",
       "      <td>45</td>\n",
       "      <td>28</td>\n",
       "      <td>77</td>\n",
       "      <td>0.760638</td>\n",
       "      <td>0.836257</td>\n",
       "      <td>0.075619</td>\n",
       "    </tr>\n",
       "    <tr>\n",
       "      <th>...</th>\n",
       "      <td>...</td>\n",
       "      <td>...</td>\n",
       "      <td>...</td>\n",
       "      <td>...</td>\n",
       "      <td>...</td>\n",
       "      <td>...</td>\n",
       "      <td>...</td>\n",
       "      <td>...</td>\n",
       "    </tr>\n",
       "    <tr>\n",
       "      <th>96</th>\n",
       "      <td>0.96</td>\n",
       "      <td>3</td>\n",
       "      <td>0</td>\n",
       "      <td>168</td>\n",
       "      <td>122</td>\n",
       "      <td>1.000000</td>\n",
       "      <td>0.017544</td>\n",
       "      <td>0.982456</td>\n",
       "    </tr>\n",
       "    <tr>\n",
       "      <th>97</th>\n",
       "      <td>0.97</td>\n",
       "      <td>1</td>\n",
       "      <td>0</td>\n",
       "      <td>170</td>\n",
       "      <td>122</td>\n",
       "      <td>1.000000</td>\n",
       "      <td>0.005848</td>\n",
       "      <td>0.994152</td>\n",
       "    </tr>\n",
       "    <tr>\n",
       "      <th>98</th>\n",
       "      <td>0.98</td>\n",
       "      <td>0</td>\n",
       "      <td>0</td>\n",
       "      <td>171</td>\n",
       "      <td>122</td>\n",
       "      <td>NaN</td>\n",
       "      <td>0.000000</td>\n",
       "      <td>NaN</td>\n",
       "    </tr>\n",
       "    <tr>\n",
       "      <th>99</th>\n",
       "      <td>0.99</td>\n",
       "      <td>0</td>\n",
       "      <td>0</td>\n",
       "      <td>171</td>\n",
       "      <td>122</td>\n",
       "      <td>NaN</td>\n",
       "      <td>0.000000</td>\n",
       "      <td>NaN</td>\n",
       "    </tr>\n",
       "    <tr>\n",
       "      <th>100</th>\n",
       "      <td>1.00</td>\n",
       "      <td>0</td>\n",
       "      <td>0</td>\n",
       "      <td>171</td>\n",
       "      <td>122</td>\n",
       "      <td>NaN</td>\n",
       "      <td>0.000000</td>\n",
       "      <td>NaN</td>\n",
       "    </tr>\n",
       "  </tbody>\n",
       "</table>\n",
       "<p>101 rows × 8 columns</p>\n",
       "</div>"
      ],
      "text/plain": [
       "     threshold   tp  fp   fn   tn  precision    recall      diff\n",
       "64        0.64  134  38   37   84   0.779070  0.783626  0.004556\n",
       "65        0.65  130  37   41   85   0.778443  0.760234  0.018209\n",
       "63        0.63  139  43   32   79   0.763736  0.812865  0.049129\n",
       "66        0.66  124  35   47   87   0.779874  0.725146  0.054728\n",
       "62        0.62  143  45   28   77   0.760638  0.836257  0.075619\n",
       "..         ...  ...  ..  ...  ...        ...       ...       ...\n",
       "96        0.96    3   0  168  122   1.000000  0.017544  0.982456\n",
       "97        0.97    1   0  170  122   1.000000  0.005848  0.994152\n",
       "98        0.98    0   0  171  122        NaN  0.000000       NaN\n",
       "99        0.99    0   0  171  122        NaN  0.000000       NaN\n",
       "100       1.00    0   0  171  122        NaN  0.000000       NaN\n",
       "\n",
       "[101 rows x 8 columns]"
      ]
     },
     "execution_count": 132,
     "metadata": {},
     "output_type": "execute_result"
    }
   ],
   "source": [
    "scores = []\n",
    "thresholds = np.linspace(0, 1, 101)\n",
    "for t in thresholds:\n",
    "    actual_positive = (y_val == 1)\n",
    "    actual_negative = (y_val == 0)\n",
    "    predict_positive = (y_pred >= t)\n",
    "    predict_negative = (y_pred < t)\n",
    "        \n",
    "    tp = (predict_positive & actual_positive).sum()\n",
    "    tn = (predict_negative & actual_negative).sum()\n",
    "    fp = (predict_positive & actual_negative).sum()\n",
    "    fn = (predict_negative & actual_positive).sum()\n",
    "    \n",
    "    scores.append((t, tp, fp, fn, tn))\n",
    "    \n",
    "columns = ['threshold', 'tp', 'fp', 'fn', 'tn']\n",
    "df_scores = pd.DataFrame(scores, columns = columns)\n",
    "df_scores['precision'] = df_scores.tp / (df_scores.tp + df_scores.fp)\n",
    "df_scores['recall'] = df_scores.tp / (df_scores.tp + df_scores.fn)\n",
    "df_scores['diff'] = df_scores['precision'] - df_scores['recall']\n",
    "df_scores.abs().sort_values(by = \"diff\")"
   ]
  },
  {
   "cell_type": "markdown",
   "id": "bc714a27-1ed6-47fb-b7a1-279e90264cf5",
   "metadata": {},
   "source": [
    "Precision and Recall curves intersect at threshold 0.64"
   ]
  },
  {
   "cell_type": "markdown",
   "id": "5ba64849-1676-44c6-83c2-88580fc3f5e5",
   "metadata": {},
   "source": [
    "## Question 4"
   ]
  },
  {
   "cell_type": "code",
   "execution_count": 140,
   "id": "d5ca261d-54ea-45d7-891f-a919719dfe1c",
   "metadata": {},
   "outputs": [],
   "source": [
    "df_scores[\"F1\"] = 2*df_scores['precision']*df_scores['recall'] / (df_scores['recall'] + df_scores['precision'])"
   ]
  },
  {
   "cell_type": "code",
   "execution_count": 152,
   "id": "abb8b8bc-3e6e-4190-9131-ad8cf8de03f1",
   "metadata": {},
   "outputs": [
    {
     "data": {
      "text/html": [
       "<div>\n",
       "<style scoped>\n",
       "    .dataframe tbody tr th:only-of-type {\n",
       "        vertical-align: middle;\n",
       "    }\n",
       "\n",
       "    .dataframe tbody tr th {\n",
       "        vertical-align: top;\n",
       "    }\n",
       "\n",
       "    .dataframe thead th {\n",
       "        text-align: right;\n",
       "    }\n",
       "</style>\n",
       "<table border=\"1\" class=\"dataframe\">\n",
       "  <thead>\n",
       "    <tr style=\"text-align: right;\">\n",
       "      <th></th>\n",
       "      <th>threshold</th>\n",
       "      <th>tp</th>\n",
       "      <th>fp</th>\n",
       "      <th>fn</th>\n",
       "      <th>tn</th>\n",
       "      <th>precision</th>\n",
       "      <th>recall</th>\n",
       "      <th>diff</th>\n",
       "      <th>F1</th>\n",
       "    </tr>\n",
       "  </thead>\n",
       "  <tbody>\n",
       "    <tr>\n",
       "      <th>57</th>\n",
       "      <td>0.57</td>\n",
       "      <td>156</td>\n",
       "      <td>57</td>\n",
       "      <td>15</td>\n",
       "      <td>65</td>\n",
       "      <td>0.732394</td>\n",
       "      <td>0.912281</td>\n",
       "      <td>-0.179886</td>\n",
       "      <td>0.8125</td>\n",
       "    </tr>\n",
       "  </tbody>\n",
       "</table>\n",
       "</div>"
      ],
      "text/plain": [
       "    threshold   tp  fp  fn  tn  precision    recall      diff      F1\n",
       "57       0.57  156  57  15  65   0.732394  0.912281 -0.179886  0.8125"
      ]
     },
     "execution_count": 152,
     "metadata": {},
     "output_type": "execute_result"
    }
   ],
   "source": [
    "df_scores.sort_values(by = \"F1\", ascending = False).head(1)"
   ]
  },
  {
   "cell_type": "markdown",
   "id": "b3c9d9c2-2e44-476e-b382-8b39b1948cf1",
   "metadata": {},
   "source": [
    "At 0.57, F1 is max"
   ]
  },
  {
   "cell_type": "markdown",
   "id": "cb20d8dc-1bf4-44df-b71a-fa3e7e4536a8",
   "metadata": {},
   "source": [
    "## Question 5"
   ]
  },
  {
   "cell_type": "code",
   "execution_count": 158,
   "id": "25c7c313-a4cc-49b4-9094-adc38b98d7ca",
   "metadata": {},
   "outputs": [],
   "source": [
    "from sklearn.model_selection import KFold"
   ]
  },
  {
   "cell_type": "code",
   "execution_count": 206,
   "id": "8155cf83-2f46-4844-87f0-5a3f007a0133",
   "metadata": {},
   "outputs": [],
   "source": [
    "def train(df_train, y_train, C = 1):\n",
    "    dicts = df_train[features].to_dict(orient = 'records')\n",
    "\n",
    "    dv = DictVectorizer(sparse = False)\n",
    "    X_train = dv.fit_transform(dicts)\n",
    "\n",
    "    model = LogisticRegression(solver='liblinear', C=C, max_iter=1000)\n",
    "    model.fit(X_train, y_train)\n",
    "\n",
    "    return dv, model"
   ]
  },
  {
   "cell_type": "code",
   "execution_count": 174,
   "id": "6d9dd463-2a77-41d3-8faf-091ae824cd7d",
   "metadata": {},
   "outputs": [],
   "source": [
    "def predict(df, dv, model):\n",
    "    dicts = df[features].to_dict(orient = 'records')\n",
    "    \n",
    "    X = dv.transform(dicts)\n",
    "    y_pred = model.predict_proba(X)[:, 1]\n",
    "\n",
    "    return y_pred"
   ]
  },
  {
   "cell_type": "code",
   "execution_count": 208,
   "id": "ee55f990-d984-4a32-aeb4-aaf272d4a5a8",
   "metadata": {},
   "outputs": [
    {
     "name": "stdout",
     "output_type": "stream",
     "text": [
      "0.822 +- 0.036\n"
     ]
    }
   ],
   "source": [
    "n_splits = 5\n",
    "\n",
    "\n",
    "scores = []\n",
    "kfold = KFold(n_splits = n_splits, shuffle = True, random_state = 1)\n",
    "    \n",
    "for train_idx, val_idx in kfold.split(df_full_train):\n",
    "    df_train = df_full_train.iloc[train_idx]\n",
    "    df_val = df_full_train.iloc[val_idx]\n",
    "    \n",
    "    y_train = df_train.converted.to_numpy()\n",
    "    y_val = df_val.converted.to_numpy()\n",
    "    \n",
    "    dv, model = train(df_train, y_train)\n",
    "    y_pred = predict(df_val, dv, model)\n",
    "    \n",
    "    auc = roc_auc_score(y_val, y_pred)\n",
    "    scores.append(auc)\n",
    "print('%.3f +- %.3f' % ( np.mean(scores), np.std(scores)))"
   ]
  },
  {
   "cell_type": "markdown",
   "id": "26a1660a-3278-4f06-8cb9-88449e1bc1dc",
   "metadata": {},
   "source": [
    "Standard deviation is 0.036"
   ]
  },
  {
   "cell_type": "code",
   "execution_count": 210,
   "id": "36f833cb-98ce-42a6-84fd-55b621bc413a",
   "metadata": {},
   "outputs": [
    {
     "data": {
      "text/plain": [
       "[0.8060745924216483,\n",
       " 0.8713738368910783,\n",
       " 0.7754320118852139,\n",
       " 0.8018368617683685,\n",
       " 0.8558272713202291]"
      ]
     },
     "execution_count": 210,
     "metadata": {},
     "output_type": "execute_result"
    }
   ],
   "source": [
    "scores # AUC Scores for each fold"
   ]
  },
  {
   "cell_type": "markdown",
   "id": "1ce76536-a876-4653-84bc-8c62688e9435",
   "metadata": {},
   "source": [
    "## Question 6"
   ]
  },
  {
   "cell_type": "code",
   "execution_count": 212,
   "id": "7124161e-7fef-4b76-82cb-2e2dbf2079c5",
   "metadata": {},
   "outputs": [
    {
     "name": "stdout",
     "output_type": "stream",
     "text": [
      "1e-06 0.560 +- 0.024\n",
      "0.001 0.867 +- 0.029\n",
      "1 0.822 +- 0.036\n"
     ]
    }
   ],
   "source": [
    "n_splits = 5\n",
    "\n",
    "\n",
    "for C in [0.000001, 0.001, 1]:\n",
    "    scores = []\n",
    "    kfold = KFold(n_splits = n_splits, shuffle = True, random_state = 1)\n",
    "    \n",
    "    for train_idx, val_idx in kfold.split(df_full_train):\n",
    "        df_train = df_full_train.iloc[train_idx]\n",
    "        df_val = df_full_train.iloc[val_idx]\n",
    "    \n",
    "        y_train = df_train.converted.to_numpy()\n",
    "        y_val = df_val.converted.to_numpy()\n",
    "    \n",
    "        dv, model = train(df_train, y_train, C)\n",
    "        y_pred = predict(df_val, dv, model)\n",
    "    \n",
    "        auc = roc_auc_score(y_val, y_pred)\n",
    "        scores.append(auc)\n",
    "    print('%s %.3f +- %.3f' % (C, np.mean(scores), np.std(scores)))"
   ]
  },
  {
   "cell_type": "markdown",
   "id": "781b5ea9-771e-4884-aea9-8c9555e2f7fc",
   "metadata": {},
   "source": [
    "C = 0.001 has the best mean score"
   ]
  }
 ],
 "metadata": {
  "kernelspec": {
   "display_name": "Python 3 (ipykernel)",
   "language": "python",
   "name": "python3"
  },
  "language_info": {
   "codemirror_mode": {
    "name": "ipython",
    "version": 3
   },
   "file_extension": ".py",
   "mimetype": "text/x-python",
   "name": "python",
   "nbconvert_exporter": "python",
   "pygments_lexer": "ipython3",
   "version": "3.12.4"
  }
 },
 "nbformat": 4,
 "nbformat_minor": 5
}
